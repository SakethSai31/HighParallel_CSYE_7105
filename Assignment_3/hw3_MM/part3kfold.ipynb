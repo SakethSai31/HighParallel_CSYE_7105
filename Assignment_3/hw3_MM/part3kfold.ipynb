{
 "cells": [
  {
   "cell_type": "code",
   "execution_count": 1,
   "id": "90ca0128-4e24-4b8e-8215-b6141cf32b10",
   "metadata": {},
   "outputs": [],
   "source": [
    "import numpy as np\n",
    "from multiprocessing import Pool\n",
    "from sklearn import svm\n",
    "from time import time\n",
    "\n"
   ]
  },
  {
   "cell_type": "code",
   "execution_count": 2,
   "id": "086af8d9-82fb-4ad6-a164-8df624fdeb71",
   "metadata": {},
   "outputs": [],
   "source": [
    "test = np.loadtxt(\"optdigits.txt\", delimiter = \",\")\n",
    "X = test[:, 0:64]\n",
    "y = test[:, 64]"
   ]
  },
  {
   "cell_type": "code",
   "execution_count": 3,
   "id": "afcec5a0-732e-4ddd-a17d-6a77c0ec6645",
   "metadata": {},
   "outputs": [],
   "source": [
    "def cvkfold(X, y, tuning_params, partitions, k):\n",
    "    n_tuning_params = tuning_params.shape[0]\n",
    "\n",
    "    partition = partitions[k]\n",
    "    TRAIN = np.delete(np.arange(0, X.shape[0]), partition)\n",
    "    TEST = partition\n",
    "    X_train = X[TRAIN, :]\n",
    "    y_train = y[TRAIN]\n",
    "\n",
    "    X_test = X[TEST, :]\n",
    "    y_test = y[TEST]\n",
    "\n",
    "    accuracies = np.zeros(n_tuning_params)\n",
    "    for i in range(0, n_tuning_params):\n",
    "        svc = svm.SVC(C = tuning_params[i], kernel = \"linear\")\n",
    "        accuracies[i] = svc.fit(X_train, y_train).score(X_test, y_test)\n",
    "    return accuracies"
   ]
  },
  {
   "cell_type": "code",
   "execution_count": 4,
   "id": "65b69ded-d4ac-482e-815a-45228542eef6",
   "metadata": {},
   "outputs": [],
   "source": [
    "K = 5\n",
    "tuning_params = np.logspace(-6, -1, 15)\n",
    "partitions = np.array_split(np.random.permutation([i for i in range(0, X.shape[0])]), K)"
   ]
  },
  {
   "cell_type": "code",
   "execution_count": 5,
   "id": "f8d1bc6f-151b-40ef-b69c-01bd48134ce2",
   "metadata": {},
   "outputs": [
    {
     "name": "stdout",
     "output_type": "stream",
     "text": [
      "Best tuning param 0.001638.\n",
      "\n",
      "\n",
      "Pool Parallelism runs 25.242 seconds on 1 CPUs.\n",
      "\n",
      "\n",
      "speed is  1.0 times on 1 cpus\n",
      "\n",
      "\n",
      "\n",
      "Best tuning param 0.001638.\n",
      "\n",
      "\n",
      "Pool Parallelism runs 14.716 seconds on 2 CPUs.\n",
      "\n",
      "\n",
      "speed is  1.7152540049837206 times on 2 cpus\n",
      "\n",
      "\n",
      "\n",
      "Best tuning param 0.001638.\n",
      "\n",
      "\n",
      "Pool Parallelism runs 12.751 seconds on 4 CPUs.\n",
      "\n",
      "\n",
      "speed is  1.9796164614247038 times on 4 cpus\n",
      "\n",
      "\n",
      "\n",
      "Best tuning param 0.001638.\n",
      "\n",
      "\n",
      "Pool Parallelism runs 10.564 seconds on 8 CPUs.\n",
      "\n",
      "\n",
      "speed is  2.389370526334034 times on 8 cpus\n",
      "\n",
      "\n",
      "\n",
      "[25.242329120635986, 14.716379642486572, 12.751121044158936, 10.56442642211914]\n"
     ]
    }
   ],
   "source": [
    "elapsedtime=[]\n",
    "speedup=[]\n",
    "efficiency=[]\n",
    "for processes in (1, 2, 4, 8):\n",
    " t1 = time()\n",
    " pool = Pool(processes)\n",
    " args = [(X, y, tuning_params, partitions, k) for k in range(0, K)]\n",
    " Accuracies = np.array(pool.starmap(cvkfold, args))\n",
    " CV_accuracy = np.mean(Accuracies, axis = 0)\n",
    " best_tuning_param = tuning_params[np.argmax(CV_accuracy)]\n",
    " print('Best tuning param %0.6f.\\n'% best_tuning_param)\n",
    " pool.close()\n",
    " t2 = (time()-t1)\n",
    " print('\\nPool Parallelism runs %0.3f seconds on %s CPUs.\\n' % (t2, processes))\n",
    " elapsedtime.append(t2)\n",
    " speed=elapsedtime[0]/t2\n",
    " speedup.append(speed)\n",
    " print('\\nspeed is ',speed, 'times on', processes, 'cpus')\n",
    " print('\\n\\n')\n",
    "print(elapsedtime)"
   ]
  },
  {
   "cell_type": "code",
   "execution_count": null,
   "id": "231d607d-6cb7-49b7-984e-87d5e6669c89",
   "metadata": {},
   "outputs": [],
   "source": []
  },
  {
   "cell_type": "code",
   "execution_count": 6,
   "id": "88447e88-c6fc-4907-996b-86063cfdb358",
   "metadata": {},
   "outputs": [
    {
     "data": {
      "image/png": "[encoded data removed]",
      "text/plain": [
       "<Figure size 576x576 with 1 Axes>"
      ]
     },
     "metadata": {
      "needs_background": "light"
     },
     "output_type": "display_data"
    },
    {
     "data": {
      "text/plain": [
       "<Figure size 432x288 with 0 Axes>"
      ]
     },
     "metadata": {},
     "output_type": "display_data"
    }
   ],
   "source": [
    "import matplotlib.pyplot as plt \n",
    "cpus = ['1','2','4','8']\n",
    "\n",
    "# f1score=[logf1,cnbf1,knnf1,deepf1]\n",
    "x_axis = np.arange(len(cpus))\n",
    "\n",
    "# Multi bar Chart\n",
    "\n",
    "plt.bar(x_axis, elapsedtime, width=0.4, label = 'elapsedtime',color='seagreen')\n",
    "plt.xticks(x_axis, cpus)\n",
    "# plt.xticks(x_axis, Algorithms)\n",
    "plt.ylabel('elapsed time')\n",
    "plt.title('Comparing elapsed times of cpus=1,2,4,8')\n",
    "# Add legend\n",
    "plt.gcf().set_size_inches(8, 8)\n",
    "plt.legend()\n",
    "\n",
    "# Display\n",
    "\n",
    "plt.show()\n",
    "plt.savefig('/home/manapati.m/csye7105/hw3/part3speedupbar.png')"
   ]
  },
  {
   "cell_type": "code",
   "execution_count": 7,
   "id": "72b55e8e-71ab-4c02-95f1-4c576be4aa96",
   "metadata": {},
   "outputs": [
    {
     "data": {
      "image/png": "[encoded data removed]",
      "text/plain": [
       "<Figure size 432x288 with 1 Axes>"
      ]
     },
     "metadata": {
      "needs_background": "light"
     },
     "output_type": "display_data"
    }
   ],
   "source": [
    "import seaborn as sns\n",
    "import plotly.express as px \n",
    "import matplotlib.pyplot as plt\n",
    "%matplotlib inline\n",
    "cpus = ['1','2','4','8']\n",
    "fig = sns.lineplot(x=cpus, y=elapsedtime,color = 'firebrick')\n",
    "fig.set(xlabel='CPUS', ylabel='Elapsed Time')\n",
    "plt.savefig('/home/manapati.m/csye7105/hw3_moukthika_manapati/part3speedupcurve.png')"
   ]
  },
  {
   "cell_type": "code",
   "execution_count": 8,
   "id": "b57d20ad-1b20-4098-939f-52974d6653c2",
   "metadata": {},
   "outputs": [
    {
     "name": "stdout",
     "output_type": "stream",
     "text": [
      "[1.0, 1.7152540049837206, 1.9796164614247038, 2.389370526334034]\n"
     ]
    },
    {
     "data": {
      "image/png": "[encoded data removed]",
      "text/plain": [
       "<Figure size 432x288 with 1 Axes>"
      ]
     },
     "metadata": {
      "needs_background": "light"
     },
     "output_type": "display_data"
    }
   ],
   "source": [
    "cpus = ['1','2','4','8']\n",
    "print(speedup)\n",
    "fig = sns.lineplot(x=cpus, y=speedup,color = 'firebrick')\n",
    "fig.set(xlabel='CPUS', ylabel='Speed Up')\n",
    "plt.savefig('/home/manapati.m/csye7105/hw3_moukthika_manapati/part3speedup.png')"
   ]
  },
  {
   "cell_type": "code",
   "execution_count": null,
   "id": "4db41a6f-9eca-4616-8d02-0117bbc8a069",
   "metadata": {},
   "outputs": [],
   "source": []
  },
  {
   "cell_type": "code",
   "execution_count": null,
   "id": "16a33838-846c-47bf-b039-e3a4b1919f1e",
   "metadata": {},
   "outputs": [],
   "source": []
  }
 ],
 "metadata": {
  "kernelspec": {
   "display_name": "Python 3 (ipykernel)",
   "language": "python",
   "name": "python3"
  },
  "language_info": {
   "codemirror_mode": {
    "name": "ipython",
    "version": 3
   },
   "file_extension": ".py",
   "mimetype": "text/x-python",
   "name": "python",
   "nbconvert_exporter": "python",
   "pygments_lexer": "ipython3",
   "version": "3.9.12"
  }
 },
 "nbformat": 4,
 "nbformat_minor": 5
}
