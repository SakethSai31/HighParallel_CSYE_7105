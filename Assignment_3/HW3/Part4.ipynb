{
 "cells": [
  {
   "cell_type": "code",
   "execution_count": 1,
   "id": "e60715e1-56df-4801-a3ff-9c36249529e2",
   "metadata": {},
   "outputs": [],
   "source": [
    "import pandas as pd\n",
    "import numpy as np\n",
    "import multiprocessing as mp\n",
    "from time import time"
   ]
  },
  {
   "cell_type": "code",
   "execution_count": 2,
   "id": "c99b7321-e7f3-48ae-a811-b1ce8924d7ec",
   "metadata": {},
   "outputs": [
    {
     "name": "stdout",
     "output_type": "stream",
     "text": [
      "0        10.003895\n",
      "1         9.996079\n",
      "2         9.988127\n",
      "3         9.995153\n",
      "4        10.007450\n",
      "           ...    \n",
      "19995     9.994788\n",
      "19996     9.995534\n",
      "19997    10.002427\n",
      "19998     9.995828\n",
      "19999    10.002994\n",
      "Length: 20000, dtype: float64\n",
      "\n",
      "Pool Parallelism runs 16.948 seconds using numpy\n",
      "\n"
     ]
    }
   ],
   "source": [
    "time1 = time()\n",
    "random=np.random.normal(10,0.1,(20000,20000))\n",
    "df=pd.DataFrame(random,index=np.arange(20000), columns=np.arange(20000))\n",
    "print(np.mean(df[::100],axis=0))\n",
    "\n",
    "print('\\nPool Parallelism runs %0.3f seconds using numpy\\n' % ((time()-time1)))\n"
   ]
  },
  {
   "cell_type": "code",
   "execution_count": 3,
   "id": "c1c39ba5-e0fc-41bc-af14-92f585fb6e44",
   "metadata": {},
   "outputs": [],
   "source": [
    "import dask.array as da\n"
   ]
  },
  {
   "cell_type": "code",
   "execution_count": 4,
   "id": "cb90d2f1-145c-4ef9-8883-eb622c4ede36",
   "metadata": {},
   "outputs": [
    {
     "name": "stdout",
     "output_type": "stream",
     "text": [
      "[ 9.99920079 10.01479739 10.00941168 ...  9.98747687  9.99725238\n",
      " 10.01142332]\n",
      "\n",
      "Pool Parallelism runs 6.138 seconds using Dask\n",
      "\n"
     ]
    }
   ],
   "source": [
    "time1 = time()\n",
    "daskrandom=da.random.normal(10,0.1,size=(20000,20000),chunks=(1000, 1000))\n",
    "daskmean = daskrandom[::100].mean(axis=0)\n",
    "print(daskmean.compute())\n",
    "print('\\nPool Parallelism runs %0.3f seconds using Dask\\n' % ((time()-time1)))"
   ]
  },
  {
   "cell_type": "markdown",
   "id": "ec2b1fa8-d933-425d-bdc5-f03e650e9036",
   "metadata": {},
   "source": [
    "## Performance Comparision\n",
    "\n",
    "To mesasure the peroformance we calculate the time taken by the numpy array and the dask array, The numpy array took 16.948 sec to finish the task wheraas the dask array only took 6.138 sec to complete the task. In comparision the dask array is faster than the numpy array.\n"
   ]
  }
 ],
 "metadata": {
  "kernelspec": {
   "display_name": "Python 3.10.7 64-bit",
   "language": "python",
   "name": "python3"
  },
  "language_info": {
   "codemirror_mode": {
    "name": "ipython",
    "version": 3
   },
   "file_extension": ".py",
   "mimetype": "text/x-python",
   "name": "python",
   "nbconvert_exporter": "python",
   "pygments_lexer": "ipython3",
   "version": "3.10.7"
  },
  "vscode": {
   "interpreter": {
    "hash": "b0fa6594d8f4cbf19f97940f81e996739fb7646882a419484c72d19e05852a7e"
   }
  }
 },
 "nbformat": 4,
 "nbformat_minor": 5
}
